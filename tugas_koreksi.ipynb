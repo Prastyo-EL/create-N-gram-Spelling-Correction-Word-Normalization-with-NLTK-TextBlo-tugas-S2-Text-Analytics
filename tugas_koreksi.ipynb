{
 "cells": [
  {
   "cell_type": "code",
   "execution_count": 4,
   "metadata": {
    "collapsed": true
   },
   "outputs": [],
   "source": [
    "import re, string, unicodedata\n",
    "from collections import Counter"
   ]
  },
  {
   "cell_type": "code",
   "execution_count": 5,
   "metadata": {},
   "outputs": [
    {
     "data": {
      "text/plain": [
       "'mau\\nmasakin\\naku\\nsetiap \\nhari \\nga'"
      ]
     },
     "execution_count": 5,
     "metadata": {},
     "output_type": "execute_result"
    }
   ],
   "source": [
    "text = open('katadasar.txt', \"r\").read()\n",
    "text"
   ]
  },
  {
   "cell_type": "code",
   "execution_count": 34,
   "metadata": {
    "collapsed": true
   },
   "outputs": [],
   "source": [
    "import re\n",
    "from collections import Counter\n",
    "\n",
    "def words(text): return re.findall(r'\\w+', text.lower())\n",
    "\n",
    "WORDS = Counter(words(open('katadasar.txt').read()))\n",
    "\n",
    "def P(word, N=sum(WORDS.values())): \n",
    "    \"Probabilitas `kata`.\"\n",
    "    return WORDS[word] / N\n",
    "\n",
    "def correction(word): \n",
    "    \"Koreksi ejaan yang paling mungkin untuk kata.\"\n",
    "    return max(candidates(word), key=P)\n",
    "\n",
    "def candidates(word): \n",
    "    \"Hasilkan koreksi ejaan yang mungkin untuk kata.\"\n",
    "    return (known([word]) or known(edits1(word)) or known(edits2(word)) or [word])\n",
    "\n",
    "def known(words): \n",
    "    \"Subset dari `kata` yang muncul di kamus KATA.\"\n",
    "    return set(w for w in words if w in WORDS)\n",
    "\n",
    "def edits1(word):\n",
    "    \"Semua pengeditan yang berjarak satu pengeditan dari `word`.\"\n",
    "    letters    = 'abcdefghijklmnopqrstuvwxyz'\n",
    "    splits     = [(word[:i], word[i:])    for i in range(len(word) + 1)]# [('', 'kemarin'), ('k', 'emarin'), ('ke', 'marin'), dst]\n",
    "    deletes    = [L + R[1:]               for L, R in splits if R]# ['emarin', 'kmarin', 'kearin', dst]\n",
    "    transposes = [L + R[1] + R[0] + R[2:] for L, R in splits if len(R)>1]# ['ekmarin', 'kmearin', 'keamrin', dst]\n",
    "    replaces   = [L + c + R[1:]           for L, R in splits if R for c in letters]# ['aemarin', 'bemarin', 'cemarin', dst]\n",
    "    inserts    = [L + c + R               for L, R in splits for c in letters]# ['akemarin', 'bkemarin', 'ckemarin', dst]\n",
    "    return set(deletes + transposes + replaces + inserts)\n"
   ]
  },
  {
   "cell_type": "code",
   "execution_count": 35,
   "metadata": {},
   "outputs": [
    {
     "name": "stdout",
     "output_type": "stream",
     "text": [
      "kata typo :  mu\n",
      "koreksi :  mau\n",
      "kata typo :  maskn\n",
      "koreksi :  masakin\n",
      "kata typo :  au\n",
      "koreksi :  mau\n",
      "kata typo :  setip\n",
      "koreksi :  setiap\n",
      "kata typo :  hri\n",
      "koreksi :  hari\n",
      "kata typo :  g\n",
      "koreksi :  ga\n"
     ]
    }
   ],
   "source": [
    "kata = 'mu'\n",
    "kata1='maskn'\n",
    "kata2='au'\n",
    "kata3='setip'\n",
    "kata4='hri'\n",
    "kata5='g'\n",
    "print('kata typo : ', kata)\n",
    "print('koreksi : ', correction(kata))\n",
    "print('kata typo : ', kata1)\n",
    "print('koreksi : ', correction(kata1))\n",
    "print('kata typo : ', kata2)\n",
    "print('koreksi : ', correction(kata2))\n",
    "print('kata typo : ', kata3)\n",
    "print('koreksi : ', correction(kata3))\n",
    "print('kata typo : ', kata4)\n",
    "print('koreksi : ', correction(kata4))\n",
    "print('kata typo : ', kata5)\n",
    "print('koreksi : ', correction(kata5))"
   ]
  },
  {
   "cell_type": "markdown",
   "metadata": {
    "collapsed": true
   },
   "source": [
    "referensi : http://norvig.com/spell-correct.html"
   ]
  },
  {
   "cell_type": "code",
   "execution_count": null,
   "metadata": {
    "collapsed": true
   },
   "outputs": [],
   "source": []
  }
 ],
 "metadata": {
  "kernelspec": {
   "display_name": "Python 3",
   "language": "python",
   "name": "python3"
  },
  "language_info": {
   "codemirror_mode": {
    "name": "ipython",
    "version": 3
   },
   "file_extension": ".py",
   "mimetype": "text/x-python",
   "name": "python",
   "nbconvert_exporter": "python",
   "pygments_lexer": "ipython3",
   "version": "3.6.2"
  }
 },
 "nbformat": 4,
 "nbformat_minor": 2
}
