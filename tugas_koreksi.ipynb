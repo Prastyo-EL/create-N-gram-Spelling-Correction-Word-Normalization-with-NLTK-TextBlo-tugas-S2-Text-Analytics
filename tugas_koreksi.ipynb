{
 "cells": [
  {
   "cell_type": "code",
   "execution_count": 45,
   "metadata": {},
   "outputs": [],
   "source": [
    "import re, string, unicodedata\n",
    "from nltk import ngrams\n",
    "from collections import Counter"
   ]
  },
  {
   "cell_type": "code",
   "execution_count": 49,
   "metadata": {},
   "outputs": [],
   "source": [
    "text = open('katadasar.txt', \"r\")"
   ]
  },
  {
   "cell_type": "code",
   "execution_count": 50,
   "metadata": {},
   "outputs": [
    {
     "name": "stdout",
     "output_type": "stream",
     "text": [
      "('mau', 'masakin', 'aku')\n",
      "('masakin', 'aku', 'setiap')\n",
      "('aku', 'setiap', 'hari')\n",
      "('setiap', 'hari', 'ga')\n"
     ]
    }
   ],
   "source": [
    "# baca file\n",
    "fi=text.read()\n",
    "# jumlah generate n-gram pada corpus digunakan 3\n",
    "n = 3\n",
    "threegrams = ngrams(fi.split(), n)\n",
    "\n",
    "for grams in threegrams:\n",
    "  print (grams)"
   ]
  },
  {
   "cell_type": "code",
   "execution_count": 51,
   "metadata": {
    "collapsed": true
   },
   "outputs": [],
   "source": [
    "import re\n",
    "from collections import Counter\n",
    "\n",
    "def words(text): return re.findall(r'\\w+', text.lower())\n",
    "\n",
    "WORDS = Counter(words(open('katadasar.txt').read()))\n",
    "\n",
    "def P(word, N=sum(WORDS.values())): \n",
    "    \"Probabilitas `kata`.\"\n",
    "    return WORDS[word] / N\n",
    "\n",
    "def correction(word): \n",
    "    \"Koreksi ejaan yang paling mungkin untuk kata.\"\n",
    "    return max(candidates(word), key=P)"
   ]
  },
  {
   "cell_type": "code",
   "execution_count": 52,
   "metadata": {},
   "outputs": [
    {
     "name": "stdout",
     "output_type": "stream",
     "text": [
      "kata typo :  muu\n",
      "koreksi :  mau\n",
      "kata typo :  maskn\n",
      "koreksi :  masakin\n",
      "kata typo :  au\n",
      "koreksi :  mau\n",
      "kata typo :  setip\n",
      "koreksi :  setiap\n",
      "kata typo :  hri\n",
      "koreksi :  hari\n",
      "kata typo :  gaa\n",
      "koreksi :  ga\n"
     ]
    }
   ],
   "source": [
    "kata = 'muu'\n",
    "kata1='maskn'\n",
    "kata2='au'\n",
    "kata3='setip'\n",
    "kata4='hri'\n",
    "kata5='gaa'\n",
    "print('kata typo : ', kata)\n",
    "print('koreksi : ', correction(kata))\n",
    "print('kata typo : ', kata1)\n",
    "print('koreksi : ', correction(kata1))\n",
    "print('kata typo : ', kata2)\n",
    "print('koreksi : ', correction(kata2))\n",
    "print('kata typo : ', kata3)\n",
    "print('koreksi : ', correction(kata3))\n",
    "print('kata typo : ', kata4)\n",
    "print('koreksi : ', correction(kata4))\n",
    "print('kata typo : ', kata5)\n",
    "print('koreksi : ', correction(kata5))"
   ]
  },
  {
   "cell_type": "code",
   "execution_count": null,
   "metadata": {
    "collapsed": true
   },
   "outputs": [],
   "source": [
    "referensi : http://norvig.com/spell-correct.html\n",
    "referensi : "
   ]
  },
  {
   "cell_type": "code",
   "execution_count": null,
   "metadata": {
    "collapsed": true
   },
   "outputs": [],
   "source": []
  }
 ],
 "metadata": {
  "kernelspec": {
   "display_name": "Python 3",
   "language": "python",
   "name": "python3"
  },
  "language_info": {
   "codemirror_mode": {
    "name": "ipython",
    "version": 3
   },
   "file_extension": ".py",
   "mimetype": "text/x-python",
   "name": "python",
   "nbconvert_exporter": "python",
   "pygments_lexer": "ipython3",
   "version": "3.6.2"
  }
 },
 "nbformat": 4,
 "nbformat_minor": 2
}
